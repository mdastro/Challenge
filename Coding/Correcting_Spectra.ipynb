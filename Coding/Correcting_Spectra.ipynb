{
 "cells": [
  {
   "cell_type": "code",
   "execution_count": 1,
   "metadata": {
    "collapsed": true,
    "deletable": true,
    "editable": true
   },
   "outputs": [],
   "source": [
    "import numpy as np\n",
    "import pandas as pd\n",
    "import os"
   ]
  },
  {
   "cell_type": "code",
   "execution_count": 2,
   "metadata": {
    "collapsed": true,
    "deletable": true,
    "editable": true
   },
   "outputs": [],
   "source": [
    "specs_path = '/home/mldantas/Dropbox/DoutoradoIAG/Challenge/Sanity_Check/Specs'\n",
    "specs_list = np.loadtxt('/home/mldantas/Dropbox/DoutoradoIAG/Challenge/Sanity_Check/specslist.txt', dtype=str)"
   ]
  },
  {
   "cell_type": "code",
   "execution_count": 3,
   "metadata": {
    "collapsed": false,
    "deletable": true,
    "editable": true
   },
   "outputs": [
    {
     "name": "stdout",
     "output_type": "stream",
     "text": [
      "0443.51873.152\n",
      "1019.52707.261\n",
      "1180.52995.637\n",
      "1665.52976.514\n",
      "2231.53816.545\n"
     ]
    }
   ],
   "source": [
    "for each_spectrum in specs_list:\n",
    "    wavelength = np.loadtxt(os.path.join(specs_path, each_spectrum), usecols=[0])\n",
    "    f_lambda   = np.loadtxt(os.path.join(specs_path, each_spectrum), usecols=[1])\n",
    "    \n",
    "    new_flambda = f_lambda * 10**(-17)\n",
    "    \n",
    "    print os.path.split(each_spectrum)[-1][0:14]\n",
    "    \n",
    "    new_spectrum = np.column_stack((wavelength, new_flambda))\n",
    "    new_spectrum = pd.DataFrame(new_spectrum)    \n",
    "    new_spectrum.to_csv(os.path.join(specs_path, os.path.split(each_spectrum)[-1][0:14]+'.txt'), \n",
    "                                 sep=' ', header=None, index=False)"
   ]
  }
 ],
 "metadata": {
  "kernelspec": {
   "display_name": "Python 2",
   "language": "python",
   "name": "python2"
  },
  "language_info": {
   "codemirror_mode": {
    "name": "ipython",
    "version": 2
   },
   "file_extension": ".py",
   "mimetype": "text/x-python",
   "name": "python",
   "nbconvert_exporter": "python",
   "pygments_lexer": "ipython2",
   "version": "2.7.11"
  }
 },
 "nbformat": 4,
 "nbformat_minor": 2
}
