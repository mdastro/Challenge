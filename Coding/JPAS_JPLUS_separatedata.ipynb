{
 "cells": [
  {
   "cell_type": "code",
   "execution_count": 1,
   "metadata": {
    "collapsed": true
   },
   "outputs": [],
   "source": [
    "import numpy as np\n",
    "import pandas as pd"
   ]
  },
  {
   "cell_type": "code",
   "execution_count": 2,
   "metadata": {
    "collapsed": true
   },
   "outputs": [],
   "source": [
    "cat_01 = np.loadtxt('photocat_challenge_z021.csv', delimiter=',', dtype=str)\n",
    "cat_02 = np.loadtxt('photocat_challenge_z050.csv', delimiter=',', dtype=str)\n",
    "cat_03 = np.loadtxt('photocat_challenge_z090.csv', delimiter=',', dtype=str)\n",
    "cat_sdss = np.loadtxt('photocat_challenge_sdss.csv', delimiter=',', dtype=str)"
   ]
  },
  {
   "cell_type": "code",
   "execution_count": 3,
   "metadata": {
    "collapsed": false
   },
   "outputs": [],
   "source": [
    "# print cat_01[0,:111]"
   ]
  },
  {
   "cell_type": "code",
   "execution_count": 4,
   "metadata": {
    "collapsed": true
   },
   "outputs": [],
   "source": [
    "# cat_jpas_part01 = cat_01[:,:111]"
   ]
  },
  {
   "cell_type": "code",
   "execution_count": 5,
   "metadata": {
    "collapsed": false
   },
   "outputs": [],
   "source": [
    "# print cat_jpas_part01"
   ]
  },
  {
   "cell_type": "code",
   "execution_count": 6,
   "metadata": {
    "collapsed": false
   },
   "outputs": [],
   "source": [
    "# print cat_01[0,141:143]"
   ]
  },
  {
   "cell_type": "code",
   "execution_count": 7,
   "metadata": {
    "collapsed": false
   },
   "outputs": [],
   "source": [
    "# cat_jpas_part02 = cat_01[:,141:143]"
   ]
  },
  {
   "cell_type": "code",
   "execution_count": 8,
   "metadata": {
    "collapsed": false
   },
   "outputs": [],
   "source": [
    "# print cat_jpas_part02"
   ]
  },
  {
   "cell_type": "code",
   "execution_count": 9,
   "metadata": {
    "collapsed": false
   },
   "outputs": [],
   "source": [
    "# print cat_01[0,115:117]"
   ]
  },
  {
   "cell_type": "code",
   "execution_count": 10,
   "metadata": {
    "collapsed": false
   },
   "outputs": [],
   "source": [
    "# print cat_01[0,111:113]"
   ]
  },
  {
   "cell_type": "code",
   "execution_count": 11,
   "metadata": {
    "collapsed": false
   },
   "outputs": [],
   "source": [
    "# print cat_01[0,113:115]"
   ]
  },
  {
   "cell_type": "code",
   "execution_count": 12,
   "metadata": {
    "collapsed": false
   },
   "outputs": [],
   "source": [
    "# print cat_01[0,143]\n",
    "\n"
   ]
  },
  {
   "cell_type": "code",
   "execution_count": 13,
   "metadata": {
    "collapsed": false
   },
   "outputs": [
    {
     "name": "stdout",
     "output_type": "stream",
     "text": [
      "['galaxy_id' 'JPAS3518' 'error_JPAS3518' 'JPAS3785' 'error_JPAS3785'\n",
      " 'JPAS3900' 'error_JPAS3900' 'JPAS4000' 'error_JPAS4000' 'JPAS4100'\n",
      " 'error_JPAS4100' 'JPAS4200' 'error_JPAS4200' 'JPAS4300' 'error_JPAS4300'\n",
      " 'JPAS4400' 'error_JPAS4400' 'JPAS4500' 'error_JPAS4500' 'JPAS4600'\n",
      " 'error_JPAS4600' 'JPAS4700' 'error_JPAS4700' 'JPAS4800' 'error_JPAS4800'\n",
      " 'JPAS4900' 'error_JPAS4900' 'JPAS5000' 'error_JPAS5000' 'JPAS5100'\n",
      " 'error_JPAS5100' 'JPAS5200' 'error_JPAS5200' 'JPAS5300' 'error_JPAS5300'\n",
      " 'JPAS5400' 'error_JPAS5400' 'JPAS5500' 'error_JPAS5500' 'JPAS5600'\n",
      " 'error_JPAS5600' 'JPAS5700' 'error_JPAS5700' 'JPAS5800' 'error_JPAS5800'\n",
      " 'JPAS5900' 'error_JPAS5900' 'JPAS6000' 'error_JPAS6000' 'JPAS6100'\n",
      " 'error_JPAS6100' 'JPAS6200' 'error_JPAS6200' 'JPAS6300' 'error_JPAS6300'\n",
      " 'JPAS6400' 'error_JPAS6400' 'JPAS6500' 'error_JPAS6500' 'JPAS6600'\n",
      " 'error_JPAS6600' 'JPAS6700' 'error_JPAS6700' 'JPAS6800' 'error_JPAS6800'\n",
      " 'JPAS6900' 'error_JPAS6900' 'JPAS7000' 'error_JPAS7000' 'JPAS7100'\n",
      " 'error_JPAS7100' 'JPAS7200' 'error_JPAS7200' 'JPAS7300' 'error_JPAS7300'\n",
      " 'JPAS7400' 'error_JPAS7400' 'JPAS7500' 'error_JPAS7500' 'JPAS7600'\n",
      " 'error_JPAS7600' 'JPAS7700' 'error_JPAS7700' 'JPAS7800' 'error_JPAS7800'\n",
      " 'JPAS7900' 'error_JPAS7900' 'JPAS8000' 'error_JPAS8000' 'JPAS8100'\n",
      " 'error_JPAS8100' 'JPAS8200' 'error_JPAS8200' 'JPAS8300' 'error_JPAS8300'\n",
      " 'JPAS8400' 'error_JPAS8400' 'JPAS8500' 'error_JPAS8500' 'JPAS8600'\n",
      " 'error_JPAS8600' 'JPAS8700' 'error_JPAS8700' 'JPAS8800' 'error_JPAS8800'\n",
      " 'JPAS8900' 'error_JPAS8900' 'JPAS9000' 'error_JPAS9000' 'JPAS9100'\n",
      " 'error_JPAS9100']\n",
      "['u_JPAS' 'error_u_JPAS']\n",
      "['g_JPAS' 'error_g_JPAS']\n",
      "['r_JPAS' 'error_r_JPAS']\n",
      "(101, 132)\n",
      "\n",
      "\n",
      "['J0378' 'error_J0378' 'J0395' 'error_J0395' 'J0410' 'error_J0410' 'J0430'\n",
      " 'error_J0430' 'J0515' 'error_J0515' 'J0660' 'error_J0660' 'J0861'\n",
      " 'error_J0861' 'redshift']\n"
     ]
    }
   ],
   "source": [
    "print cat_sdss[0,:111]\n",
    "print cat_sdss[0,115:117]\n",
    "print cat_sdss[0,111:113]\n",
    "print cat_sdss[0,113:115]\n",
    "print cat_sdss.shape\n",
    "print '\\n'\n",
    "print cat_sdss[0,117:]"
   ]
  },
  {
   "cell_type": "code",
   "execution_count": 14,
   "metadata": {
    "collapsed": false
   },
   "outputs": [],
   "source": [
    "cat_jpas_01 = np.hstack((cat_01[:,:111], cat_01[:,141:143], cat_01[:,115:117], cat_01[:,111:115], cat_01[:,143:]))\n",
    "cat_jpas_02 = np.hstack((cat_02[:,:111], cat_02[:,141:143], cat_02[:,115:117], cat_02[:,111:115], cat_02[:,143:]))\n",
    "cat_jpas_03 = np.hstack((cat_03[:,:111], cat_03[:,141:143], cat_03[:,115:117], cat_03[:,111:115], cat_03[:,143:]))\n",
    "cat_jpas_sdss = np.hstack((cat_sdss[:,:111], cat_sdss[:,115:117], cat_sdss[:,111:115], cat_sdss[:,132:]))"
   ]
  },
  {
   "cell_type": "code",
   "execution_count": null,
   "metadata": {
    "collapsed": false
   },
   "outputs": [],
   "source": []
  },
  {
   "cell_type": "code",
   "execution_count": 15,
   "metadata": {
    "collapsed": false
   },
   "outputs": [],
   "source": [
    "cat_jpas_01 = pd.DataFrame(cat_jpas_01)\n",
    "cat_jpas_01.to_csv('/home/mldantas/Dropbox/DoutoradoIAG/Challenge/photocat_challenge_z021_JPAS.csv', sep=',',\n",
    "                             header=None, index=False)\n",
    "cat_jpas_02 = pd.DataFrame(cat_jpas_02)\n",
    "cat_jpas_02.to_csv('/home/mldantas/Dropbox/DoutoradoIAG/Challenge/photocat_challenge_z050_JPAS.csv', sep=',',\n",
    "                             header=None, index=False)\n",
    "cat_jpas_03 = pd.DataFrame(cat_jpas_03)\n",
    "cat_jpas_03.to_csv('/home/mldantas/Dropbox/DoutoradoIAG/Challenge/photocat_challenge_z090_JPAS.csv', sep=',',\n",
    "                             header=None, index=False)\n",
    "\n",
    "cat_jpas_sdss = pd.DataFrame(cat_jpas_sdss)\n",
    "cat_jpas_sdss.to_csv('/home/mldantas/Dropbox/DoutoradoIAG/Challenge/photocat_challenge_sdss_JPAS.csv', sep=',',\n",
    "                             header=None, index=False)\n"
   ]
  },
  {
   "cell_type": "code",
   "execution_count": 16,
   "metadata": {
    "collapsed": false
   },
   "outputs": [
    {
     "name": "stdout",
     "output_type": "stream",
     "text": [
      "['J0378' 'error_J0378' 'J0395' 'error_J0395' 'J0410' 'error_J0410' 'J0430'\n",
      " 'error_J0430' 'J0515' 'error_J0515' 'J0660' 'error_J0660' 'J0861'\n",
      " 'error_J0861']\n",
      "['uJAVA' 'error_uJAVA']\n",
      "['gSDSS' 'error_gSDSS']\n",
      "['rSDSS' 'error_rSDSS']\n",
      "['iSDSS' 'error_iSDSS']\n",
      "['zSDSS' 'error_zSDSS']\n"
     ]
    }
   ],
   "source": [
    "print cat_01[0,117:131]\n",
    "print cat_01[0,137:139]\n",
    "print cat_01[0,131:133]\n",
    "print cat_01[0,135:137]\n",
    "print cat_01[0,133:135]\n",
    "print cat_01[0,139:141]\n",
    "\n",
    "cat_jplus_01 = np.hstack((cat_01[:,0:1], cat_01[:,117:131], cat_01[:,137:139], cat_01[:,131:133], cat_01[:,135:137], cat_01[:,133:135], cat_01[:,139:141], cat_01[:,143:]))\n",
    "cat_jplus_02 = np.hstack((cat_02[:,0:1], cat_02[:,117:131], cat_02[:,137:139], cat_02[:,131:133], cat_02[:,135:137], cat_02[:,133:135], cat_02[:,139:141], cat_02[:,143:]))\n",
    "cat_jplus_03 = np.hstack((cat_03[:,0:1], cat_03[:,117:131], cat_03[:,137:139], cat_03[:,131:133], cat_03[:,135:137], cat_03[:,133:135], cat_03[:,139:141], cat_03[:,143:]))\n",
    "cat_jplus_sdss = np.hstack((cat_sdss[:,0:1], cat_sdss[:,117:]))\n",
    "\n",
    "cat_jplus_01 = pd.DataFrame(cat_jplus_01)\n",
    "cat_jplus_02 = pd.DataFrame(cat_jplus_02)\n",
    "cat_jplus_03 = pd.DataFrame(cat_jplus_03)\n",
    "\n",
    "cat_jplus_01.to_csv('/home/mldantas/Dropbox/DoutoradoIAG/Challenge/photocat_challenge_z021_JPLUS.csv', sep=',',\n",
    "                             header=None, index=False)\n",
    "cat_jplus_02 = pd.DataFrame(cat_jplus_02)\n",
    "cat_jplus_02.to_csv('/home/mldantas/Dropbox/DoutoradoIAG/Challenge/photocat_challenge_z050_JPLUS.csv', sep=',',\n",
    "                             header=None, index=False)\n",
    "cat_jplus_03 = pd.DataFrame(cat_jplus_03)\n",
    "cat_jplus_03.to_csv('/home/mldantas/Dropbox/DoutoradoIAG/Challenge/photocat_challenge_z090_JPLUS.csv', sep=',',\n",
    "                             header=None, index=False)\n",
    "\n",
    "cat_jplus_sdss = pd.DataFrame(cat_jplus_sdss)\n",
    "cat_jplus_sdss.to_csv('/home/mldantas/Dropbox/DoutoradoIAG/Challenge/photocat_challenge_SDSS_JPLUS.csv', sep=',',\n",
    "                             header=None, index=False)"
   ]
  },
  {
   "cell_type": "code",
   "execution_count": null,
   "metadata": {
    "collapsed": true
   },
   "outputs": [],
   "source": []
  }
 ],
 "metadata": {
  "kernelspec": {
   "display_name": "Python 2",
   "language": "python",
   "name": "python2"
  },
  "language_info": {
   "codemirror_mode": {
    "name": "ipython",
    "version": 2
   },
   "file_extension": ".py",
   "mimetype": "text/x-python",
   "name": "python",
   "nbconvert_exporter": "python",
   "pygments_lexer": "ipython2",
   "version": "2.7.11"
  }
 },
 "nbformat": 4,
 "nbformat_minor": 2
}
