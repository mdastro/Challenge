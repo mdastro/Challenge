{
 "cells": [
  {
   "cell_type": "code",
   "execution_count": 1,
   "metadata": {
    "collapsed": false,
    "deletable": true,
    "editable": true
   },
   "outputs": [],
   "source": [
    "import numpy as np\n",
    "import os\n",
    "import pysynphot as s\n",
    "import pandas as pd"
   ]
  },
  {
   "cell_type": "code",
   "execution_count": 2,
   "metadata": {
    "collapsed": false,
    "deletable": true,
    "editable": true
   },
   "outputs": [],
   "source": [
    "jpas_filters_path = '/home/mldantas/Dropbox/DoutoradoIAG/Challenge/Filters/JPAS_filters'\n",
    "test_specs        = '/home/mldantas/Dropbox/DoutoradoIAG/Challenge/Sanity_Check/Specs'\n",
    "results_path      = '/home/mldantas/Dropbox/DoutoradoIAG/Challenge/Sanity_Check/Results'\n",
    "jpas_filters_list = np.loadtxt('/home/mldantas/Dropbox/DoutoradoIAG/Challenge/Filters/jpas_filters_list.txt', dtype=str)\n",
    "specs_list        = np.loadtxt('/home/mldantas/Dropbox/DoutoradoIAG/Challenge/Sanity_Check/specslist2.txt', dtype=str)"
   ]
  },
  {
   "cell_type": "code",
   "execution_count": 3,
   "metadata": {
    "collapsed": true,
    "deletable": true,
    "editable": true
   },
   "outputs": [],
   "source": [
    "# Constants --------------------------------------------------------------------------------------------------------\n",
    "c = 2.99792458E18                  # Light Speed in Angstrom s^-1"
   ]
  },
  {
   "cell_type": "code",
   "execution_count": 4,
   "metadata": {
    "collapsed": false,
    "deletable": true,
    "editable": true
   },
   "outputs": [],
   "source": [
    "# Setting the T80 M1 effective area in cm^2 ------------------------------------------------------------------------\n",
    "s.setref(area=4400)"
   ]
  },
  {
   "cell_type": "code",
   "execution_count": 5,
   "metadata": {
    "collapsed": false,
    "deletable": true,
    "editable": true
   },
   "outputs": [
    {
     "name": "stdout",
     "output_type": "stream",
     "text": [
      "Warning, 9 of 6001 bins contained negative fluxes; they have been set to zero.\n",
      "Warning, 9 of 6001 bins contained negative fluxes; they have been set to zero.\n",
      "Warning, 9 of 6001 bins contained negative fluxes; they have been set to zero.\n",
      "Warning, 9 of 6001 bins contained negative fluxes; they have been set to zero.\n",
      "Warning, 9 of 6001 bins contained negative fluxes; they have been set to zero.\n",
      "Warning, 9 of 6001 bins contained negative fluxes; they have been set to zero.\n",
      "Warning, 9 of 6001 bins contained negative fluxes; they have been set to zero.\n",
      "Warning, 9 of 6001 bins contained negative fluxes; they have been set to zero.\n",
      "Warning, 9 of 6001 bins contained negative fluxes; they have been set to zero.\n",
      "Warning, 9 of 6001 bins contained negative fluxes; they have been set to zero.\n",
      "Warning, 9 of 6001 bins contained negative fluxes; they have been set to zero.\n",
      "Warning, 9 of 6001 bins contained negative fluxes; they have been set to zero.\n",
      "Warning, 9 of 6001 bins contained negative fluxes; they have been set to zero.\n",
      "Warning, 9 of 6001 bins contained negative fluxes; they have been set to zero.\n",
      "Warning, 9 of 6001 bins contained negative fluxes; they have been set to zero.\n",
      "Warning, 9 of 6001 bins contained negative fluxes; they have been set to zero.\n",
      "Warning, 9 of 6001 bins contained negative fluxes; they have been set to zero.\n",
      "Warning, 9 of 6001 bins contained negative fluxes; they have been set to zero.\n",
      "Warning, 9 of 6001 bins contained negative fluxes; they have been set to zero.\n",
      "Warning, 9 of 6001 bins contained negative fluxes; they have been set to zero.\n",
      "Warning, 9 of 6001 bins contained negative fluxes; they have been set to zero.\n",
      "Warning, 9 of 6001 bins contained negative fluxes; they have been set to zero.\n",
      "Warning, 9 of 6001 bins contained negative fluxes; they have been set to zero.\n",
      "Warning, 9 of 6001 bins contained negative fluxes; they have been set to zero.\n",
      "Warning, 9 of 6001 bins contained negative fluxes; they have been set to zero.\n",
      "Warning, 9 of 6001 bins contained negative fluxes; they have been set to zero.\n",
      "Warning, 9 of 6001 bins contained negative fluxes; they have been set to zero.\n",
      "Warning, 9 of 6001 bins contained negative fluxes; they have been set to zero.\n",
      "Warning, 9 of 6001 bins contained negative fluxes; they have been set to zero.\n",
      "Warning, 9 of 6001 bins contained negative fluxes; they have been set to zero.\n",
      "Warning, 9 of 6001 bins contained negative fluxes; they have been set to zero.\n",
      "Warning, 9 of 6001 bins contained negative fluxes; they have been set to zero.\n",
      "Warning, 9 of 6001 bins contained negative fluxes; they have been set to zero.\n",
      "Warning, 9 of 6001 bins contained negative fluxes; they have been set to zero.\n",
      "Warning, 9 of 6001 bins contained negative fluxes; they have been set to zero.\n",
      "Warning, 9 of 6001 bins contained negative fluxes; they have been set to zero.\n",
      "Warning, 9 of 6001 bins contained negative fluxes; they have been set to zero.\n",
      "Warning, 9 of 6001 bins contained negative fluxes; they have been set to zero.\n",
      "Warning, 9 of 6001 bins contained negative fluxes; they have been set to zero.\n",
      "Warning, 9 of 6001 bins contained negative fluxes; they have been set to zero.\n",
      "Warning, 9 of 6001 bins contained negative fluxes; they have been set to zero.\n",
      "Warning, 9 of 6001 bins contained negative fluxes; they have been set to zero.\n",
      "Warning, 9 of 6001 bins contained negative fluxes; they have been set to zero.\n",
      "Warning, 9 of 6001 bins contained negative fluxes; they have been set to zero.\n",
      "Warning, 9 of 6001 bins contained negative fluxes; they have been set to zero.\n",
      "Warning, 9 of 6001 bins contained negative fluxes; they have been set to zero.\n",
      "Warning, 9 of 6001 bins contained negative fluxes; they have been set to zero.\n",
      "Warning, 9 of 6001 bins contained negative fluxes; they have been set to zero.\n",
      "Warning, 9 of 6001 bins contained negative fluxes; they have been set to zero.\n",
      "Warning, 9 of 6001 bins contained negative fluxes; they have been set to zero.\n",
      "Warning, 9 of 6001 bins contained negative fluxes; they have been set to zero.\n",
      "Warning, 9 of 6001 bins contained negative fluxes; they have been set to zero.\n",
      "Warning, 9 of 6001 bins contained negative fluxes; they have been set to zero.\n",
      "Warning, 9 of 6001 bins contained negative fluxes; they have been set to zero.\n",
      "Warning, 9 of 6001 bins contained negative fluxes; they have been set to zero.\n",
      "Warning, 9 of 6001 bins contained negative fluxes; they have been set to zero.\n",
      "Warning, 9 of 6001 bins contained negative fluxes; they have been set to zero.\n",
      "Warning, 9 of 6001 bins contained negative fluxes; they have been set to zero.\n",
      "Warning, 9 of 6001 bins contained negative fluxes; they have been set to zero.\n"
     ]
    }
   ],
   "source": [
    "for each_spectrum in specs_list:\n",
    "    # Transforming the specs from f_lambda to f_nu -----------------------------------------------------------------\n",
    "    wavelength = np.loadtxt(os.path.join(test_specs, each_spectrum), usecols=[0])\n",
    "    f_lambda   = np.loadtxt(os.path.join(test_specs, each_spectrum), usecols=[1])\n",
    "    # Simulating the photometry for each J-PAS band ----------------------------------------------------------------\n",
    "    filter_name = []\n",
    "    photometry  = []\n",
    "    for jpas_filters in jpas_filters_list:\n",
    "        filter_name_i          = jpas_filters.split('.')[0]\n",
    "        filter_name.append(filter_name_i)\n",
    "        jpas_filter_bandpass = s.FileBandpass(os.path.join(jpas_filters_path, jpas_filters))        \n",
    "#         print jpas_filter_bandpass.throughput\n",
    "        sdss_spectrum        = s.FileSpectrum(os.path.join(test_specs, each_spectrum))\n",
    "        photometry_i         = s.Observation(sdss_spectrum, jpas_filter_bandpass, binset=np.arange(3000, 11000), \n",
    "                                             force='extrap')\n",
    "        photometry.append(photometry_i.effstim('abmag'))\n",
    "\n",
    "    filter_name       = np.array(filter_name)\n",
    "    photometry        = np.array(photometry)\n",
    "    photometry_fnu    = 10**(photometry + 48.60)/(-2.5) * (10**(-17))\n",
    "    galaxy_simulation_abmag = np.vstack((filter_name, photometry))\n",
    "    galaxy_simulation_abmag = pd.DataFrame(galaxy_simulation_abmag)\n",
    "    galaxy_simulation_abmag.to_csv(os.path.join(results_path, os.path.split(each_spectrum)[-1][0:14]+'_abmag.csv'), \n",
    "                                   sep=',', header=None, index=False)\n",
    "    galaxy_simulation_fnu = np.vstack((filter_name, photometry_fnu))\n",
    "    galaxy_simulation_fnu = pd.DataFrame(galaxy_simulation_fnu)\n",
    "    galaxy_simulation_fnu.to_csv(os.path.join(results_path, os.path.split(each_spectrum)[-1][0:14]+'_fnu.csv'), \n",
    "                                 sep=',', header=None, index=False)"
   ]
  },
  {
   "cell_type": "code",
   "execution_count": null,
   "metadata": {
    "collapsed": false,
    "deletable": true,
    "editable": true
   },
   "outputs": [],
   "source": []
  }
 ],
 "metadata": {
  "kernelspec": {
   "display_name": "Python 2",
   "language": "python",
   "name": "python2"
  },
  "language_info": {
   "codemirror_mode": {
    "name": "ipython",
    "version": 2
   },
   "file_extension": ".py",
   "mimetype": "text/x-python",
   "name": "python",
   "nbconvert_exporter": "python",
   "pygments_lexer": "ipython2",
   "version": "2.7.11"
  }
 },
 "nbformat": 4,
 "nbformat_minor": 2
}
