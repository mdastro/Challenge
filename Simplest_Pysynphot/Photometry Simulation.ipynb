{
 "cells": [
  {
   "cell_type": "code",
   "execution_count": 1,
   "metadata": {
    "collapsed": true
   },
   "outputs": [],
   "source": [
    "import numpy as np\n",
    "import os\n",
    "import pysynphot as s"
   ]
  },
  {
   "cell_type": "code",
   "execution_count": 2,
   "metadata": {
    "collapsed": true
   },
   "outputs": [],
   "source": [
    "sdss_spectrum = '/home/mldantas/Dropbox/DoutoradoIAG/Challenge/Sanity_Check/Specs/0266.51602.001.7xt'\n",
    "jpas_filter   = '/home/mldantas/Dropbox/DoutoradoIAG/Challenge/Filters/JPAS_filters/Jv0915_3495.res'"
   ]
  },
  {
   "cell_type": "code",
   "execution_count": 3,
   "metadata": {
    "collapsed": true
   },
   "outputs": [],
   "source": [
    "# Setting the T80 M1 effective area in cm^2 ------------------------------------------------------------------------\n",
    "s.refs.PRIMARY_AREA = 4400"
   ]
  },
  {
   "cell_type": "code",
   "execution_count": 4,
   "metadata": {
    "collapsed": false
   },
   "outputs": [
    {
     "name": "stdout",
     "output_type": "stream",
     "text": [
      "/home/mldantas/Dropbox/DoutoradoIAG/Challenge/Sanity_Check/Specs/0266.51602.001.7xt * /home/mldantas/Dropbox/DoutoradoIAG/Challenge/Filters/JPAS_filters/Jv0915_3495.res\n"
     ]
    }
   ],
   "source": [
    "jpas_filter_bandpass = s.FileBandpass(jpas_filter)  \n",
    "sdss_spectrum        = s.FileSpectrum(sdss_spectrum)\n",
    "photometry           = s.Observation(sdss_spectrum, jpas_filter_bandpass, binset=np.arange(3000, 11000, 1), \n",
    "                                             force='extrap')\n",
    "print photometry"
   ]
  }
 ],
 "metadata": {
  "kernelspec": {
   "display_name": "Python 2",
   "language": "python",
   "name": "python2"
  },
  "language_info": {
   "codemirror_mode": {
    "name": "ipython",
    "version": 2
   },
   "file_extension": ".py",
   "mimetype": "text/x-python",
   "name": "python",
   "nbconvert_exporter": "python",
   "pygments_lexer": "ipython2",
   "version": "2.7.11"
  }
 },
 "nbformat": 4,
 "nbformat_minor": 2
}
