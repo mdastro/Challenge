{
 "cells": [
  {
   "cell_type": "code",
   "execution_count": 1,
   "metadata": {},
   "outputs": [
    {
     "name": "stderr",
     "output_type": "stream",
     "text": [
      "/usr/local/lib/python2.7/dist-packages/pysynphot/locations.py:44: UserWarning: PYSYN_CDBS is undefined; functionality will be SEVERELY crippled.\n",
      "  warnings.warn(\"PYSYN_CDBS is undefined; functionality will be SEVERELY \"\n",
      "/usr/local/lib/python2.7/dist-packages/pysynphot/locations.py:119: UserWarning: Extinction files should be moved to $PYSYN_CDBS/extinction for compatibility with future versions of pysynphot.\n",
      "  warnings.warn('Extinction files should be moved to '\n",
      "/usr/local/lib/python2.7/dist-packages/pysynphot/locations.py:155: UserWarning: Extinction files not found in grid/extinction\n",
      "  warnings.warn('Extinction files not found in %s' % (extdir,))\n",
      "/usr/local/lib/python2.7/dist-packages/pysynphot/locations.py:133: UserWarning: PYSYN_CDBS is undefined; cannot find mtab/*_tmg.fits file\n",
      "  warnings.warn(\"PYSYN_CDBS is undefined; cannot find %s file\" % template)\n",
      "/usr/local/lib/python2.7/dist-packages/pysynphot/locations.py:133: UserWarning: PYSYN_CDBS is undefined; cannot find mtab/*_tmc.fits file\n",
      "  warnings.warn(\"PYSYN_CDBS is undefined; cannot find %s file\" % template)\n",
      "/usr/local/lib/python2.7/dist-packages/pysynphot/locations.py:133: UserWarning: PYSYN_CDBS is undefined; cannot find mtab/*_tmt.fits file\n",
      "  warnings.warn(\"PYSYN_CDBS is undefined; cannot find %s file\" % template)\n"
     ]
    }
   ],
   "source": [
    "import numpy as np\n",
    "import os\n",
    "import pysynphot as s"
   ]
  },
  {
   "cell_type": "code",
   "execution_count": 2,
   "metadata": {
    "collapsed": true
   },
   "outputs": [],
   "source": [
    "sdss_spectrum = '/home/mldantas/Dropbox/DoutoradoIAG/Challenge/Sanity_Check/Specs/0443.51873.152.7xt'\n",
    "jplus_filter   = '/home/mldantas/Dropbox/DoutoradoIAG/Challenge/Filters/JPLUS_SDSS_filters/gSDSS_2cols.txt'"
   ]
  },
  {
   "cell_type": "code",
   "execution_count": 3,
   "metadata": {
    "collapsed": true
   },
   "outputs": [],
   "source": [
    "# Setting the T80 M1 effective area in cm^2 ------------------------------------------------------------------------\n",
    "s.refs.PRIMARY_AREA = 4400"
   ]
  },
  {
   "cell_type": "code",
   "execution_count": 4,
   "metadata": {},
   "outputs": [
    {
     "name": "stdout",
     "output_type": "stream",
     "text": [
      "4.10091416843e+19\n",
      "4887.4329977\n",
      "-24.7310893127\n"
     ]
    }
   ],
   "source": [
    "jplus_filter_bandpass = s.FileBandpass(jplus_filter)  \n",
    "sdss_spectrum         = s.FileSpectrum(sdss_spectrum)\n",
    "photometry            = s.Observation(sdss_spectrum, jplus_filter_bandpass, binset=np.arange(3000, 11000, 1), \n",
    "                                             force='extrap')\n",
    "print photometry.countrate()\n",
    "print photometry.efflam()\n",
    "print photometry.effstim('abmag')"
   ]
  }
 ],
 "metadata": {
  "kernelspec": {
   "display_name": "Python 2",
   "language": "python",
   "name": "python2"
  },
  "language_info": {
   "codemirror_mode": {
    "name": "ipython",
    "version": 2
   },
   "file_extension": ".py",
   "mimetype": "text/x-python",
   "name": "python",
   "nbconvert_exporter": "python",
   "pygments_lexer": "ipython2",
   "version": "2.7.6"
  }
 },
 "nbformat": 4,
 "nbformat_minor": 2
}
