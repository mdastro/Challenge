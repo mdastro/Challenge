{
 "cells": [
  {
   "cell_type": "code",
   "execution_count": 1,
   "metadata": {
    "collapsed": false,
    "deletable": true,
    "editable": true,
    "scrolled": true
   },
   "outputs": [
    {
     "name": "stderr",
     "output_type": "stream",
     "text": [
      "/home/mldantas/miniconda2/lib/python2.7/site-packages/matplotlib/font_manager.py:273: UserWarning: Matplotlib is building the font cache using fc-list. This may take a moment.\n",
      "  warnings.warn('Matplotlib is building the font cache using fc-list. This may take a moment.')\n"
     ]
    }
   ],
   "source": [
    "import numpy as np\n",
    "import os\n",
    "import pysynphot as s\n",
    "import pandas as pd\n",
    "import matplotlib.pyplot as plt"
   ]
  },
  {
   "cell_type": "code",
   "execution_count": 2,
   "metadata": {
    "collapsed": true,
    "deletable": true,
    "editable": true
   },
   "outputs": [],
   "source": [
    "spectrum          = '/home/mldantas/Dropbox/DoutoradoIAG/Challenge/Sanity_Check/Specs/0443.51873.152_rebin.txt'\n",
    "jplus_good_filter = '/home/mldantas/Dropbox/DoutoradoIAG/Challenge/Filters/JPLUS_SDSS_filters/rSDSS_2cols.txt'\n",
    "jplus_bad_filter  = '/home/mldantas/Dropbox/DoutoradoIAG/Challenge/Filters/JPLUS_SDSS_filters/iSDSS_2cols.txt'"
   ]
  },
  {
   "cell_type": "code",
   "execution_count": 3,
   "metadata": {
    "collapsed": true,
    "deletable": true,
    "editable": true
   },
   "outputs": [],
   "source": [
    "wavelength = np.loadtxt(spectrum, usecols=[0])\n",
    "f_lambda   = np.loadtxt(spectrum, usecols=[1])"
   ]
  },
  {
   "cell_type": "code",
   "execution_count": 4,
   "metadata": {
    "collapsed": true,
    "deletable": true,
    "editable": true
   },
   "outputs": [],
   "source": [
    "wl_good = np.loadtxt(jplus_good_filter, usecols=[0])\n",
    "fx_good = np.loadtxt(jplus_good_filter, usecols=[1])\n",
    "wl_bad = np.loadtxt(jplus_bad_filter, usecols=[0])\n",
    "fx_bad = np.loadtxt(jplus_bad_filter, usecols=[1])"
   ]
  },
  {
   "cell_type": "code",
   "execution_count": 5,
   "metadata": {
    "collapsed": true,
    "deletable": true,
    "editable": true
   },
   "outputs": [],
   "source": [
    "# Setting the T80 M1 effective area in cm^2 ------------------------------------------------------------------------\n",
    "s.setref(area=4400)"
   ]
  },
  {
   "cell_type": "code",
   "execution_count": 6,
   "metadata": {
    "collapsed": true,
    "deletable": true,
    "editable": true
   },
   "outputs": [],
   "source": [
    "sdss_spectrum = s.FileSpectrum(spectrum)"
   ]
  },
  {
   "cell_type": "code",
   "execution_count": 7,
   "metadata": {
    "collapsed": false,
    "deletable": true,
    "editable": true
   },
   "outputs": [],
   "source": [
    "jplus_good_bandpass = s.FileBandpass(jplus_good_filter)"
   ]
  },
  {
   "cell_type": "code",
   "execution_count": 8,
   "metadata": {
    "collapsed": true,
    "deletable": true,
    "editable": true
   },
   "outputs": [],
   "source": [
    "jplus_bad_bandpass = s.FileBandpass(jplus_bad_filter)"
   ]
  },
  {
   "cell_type": "code",
   "execution_count": 9,
   "metadata": {
    "collapsed": false,
    "deletable": true,
    "editable": true
   },
   "outputs": [
    {
     "name": "stdout",
     "output_type": "stream",
     "text": [
      "4.93492437612e-16\n",
      "6333.9045939\n"
     ]
    }
   ],
   "source": [
    "photometry_good = s.Observation(sdss_spectrum, jplus_good_bandpass, binset=np.arange(3000, 11000), force='extrap')\n",
    "photometry_good_flam = photometry_good.effstim('flam')\n",
    "lambda_eff_good = photometry_good.efflam()\n",
    "print photometry_good_flam\n",
    "print lambda_eff_good"
   ]
  },
  {
   "cell_type": "code",
   "execution_count": 10,
   "metadata": {
    "collapsed": false,
    "deletable": true,
    "editable": true
   },
   "outputs": [
    {
     "name": "stdout",
     "output_type": "stream",
     "text": [
      "3.85719286331e-16\n",
      "7516.30368089\n"
     ]
    }
   ],
   "source": [
    "photometry_bad = s.Observation(sdss_spectrum, jplus_bad_bandpass, binset=np.arange(3000, 11000), force='extrap')\n",
    "photometry_bad_flam = photometry_bad.effstim('flam')\n",
    "lambda_eff_bad = photometry_bad.efflam()\n",
    "print photometry_bad_flam\n",
    "print lambda_eff_bad"
   ]
  },
  {
   "cell_type": "code",
   "execution_count": 11,
   "metadata": {
    "collapsed": false
   },
   "outputs": [],
   "source": [
    "sp = s.FileSpectrum(spectrum)\n",
    "i = np.where(sp.flux > 0)\n",
    "sp2 = s.ArraySpectrum(wave=sp.wave[i], flux=sp.flux[i], fluxunits=sp.fluxunits, waveunits=sp.waveunits)\n",
    "obs2 = s.Observation(sp2, jplus_bad_bandpass, binset= np.arange(3000, 11000), force='extrap')\n",
    "phot_obs2 = obs2.effstim('flam')\n",
    "lamb_obs2 = obs2.efflam()\n",
    "# ax2 here is the matplotlib axis I have previously created, you can use plt as you did"
   ]
  },
  {
   "cell_type": "code",
   "execution_count": 12,
   "metadata": {
    "collapsed": false,
    "deletable": true,
    "editable": true,
    "scrolled": true
   },
   "outputs": [
    {
     "data": {
      "image/png": "[encoded data removed]",
      "text/plain": [
       "<matplotlib.figure.Figure at 0xa9ca10ec>"
      ]
     },
     "metadata": {},
     "output_type": "display_data"
    }
   ],
   "source": [
    "plot01 = plt.plot(wavelength, f_lambda, '-', alpha=0.5)\n",
    "plot02 = plt.plot(lambda_eff_good, photometry_good_flam, 'o', color='black', markersize=10)\n",
    "plot03 = plt.plot(lamb_obs2, phot_obs2, '*', color='red', markersize=10, label='badfixed')\n",
    "# plot03 = plt.plot(lambda_eff_bad, photometry_bad_flam, '*', color='red', markersize=10 )\n",
    "plt.show()"
   ]
  },
  {
   "cell_type": "code",
   "execution_count": null,
   "metadata": {
    "collapsed": true
   },
   "outputs": [],
   "source": []
  },
  {
   "cell_type": "code",
   "execution_count": null,
   "metadata": {
    "collapsed": true
   },
   "outputs": [],
   "source": []
  }
 ],
 "metadata": {
  "kernelspec": {
   "display_name": "Python 2",
   "language": "python",
   "name": "python2"
  },
  "language_info": {
   "codemirror_mode": {
    "name": "ipython",
    "version": 2
   },
   "file_extension": ".py",
   "mimetype": "text/x-python",
   "name": "python",
   "nbconvert_exporter": "python",
   "pygments_lexer": "ipython2",
   "version": "2.7.11"
  }
 },
 "nbformat": 4,
 "nbformat_minor": 2
}
