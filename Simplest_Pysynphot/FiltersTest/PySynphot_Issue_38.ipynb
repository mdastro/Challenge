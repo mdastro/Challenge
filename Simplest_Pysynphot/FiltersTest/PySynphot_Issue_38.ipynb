{
 "cells": [
  {
   "cell_type": "code",
   "execution_count": 1,
   "metadata": {
    "collapsed": false,
    "deletable": true,
    "editable": true
   },
   "outputs": [
    {
     "name": "stderr",
     "output_type": "stream",
     "text": [
      "/home/mldantas/miniconda2/lib/python2.7/site-packages/matplotlib/font_manager.py:273: UserWarning: Matplotlib is building the font cache using fc-list. This may take a moment.\n",
      "  warnings.warn('Matplotlib is building the font cache using fc-list. This may take a moment.')\n"
     ]
    },
    {
     "name": "stdout",
     "output_type": "stream",
     "text": [
      "0.9.8.6\n"
     ]
    }
   ],
   "source": [
    "from __future__ import print_function\n",
    "\n",
    "import matplotlib.pyplot as plt\n",
    "import numpy as np\n",
    "\n",
    "import pysynphot as S\n",
    "print(S.__version__)"
   ]
  },
  {
   "cell_type": "code",
   "execution_count": 2,
   "metadata": {
    "collapsed": true,
    "deletable": true,
    "editable": true
   },
   "outputs": [],
   "source": [
    "%matplotlib inline"
   ]
  },
  {
   "cell_type": "code",
   "execution_count": 3,
   "metadata": {
    "collapsed": true,
    "deletable": true,
    "editable": true
   },
   "outputs": [],
   "source": [
    "spectrum          = '/home/mldantas/Dropbox/DoutoradoIAG/Challenge/Sanity_Check/Specs/0443.51873.152_rebin.txt'\n",
    "jplus_good_filter = '/home/mldantas/Dropbox/DoutoradoIAG/Challenge/Filters/JPLUS_SDSS_filters/rSDSS_2cols.txt'\n",
    "jplus_bad_filter  = '/home/mldantas/Dropbox/DoutoradoIAG/Challenge/Filters/JPLUS_SDSS_filters/iSDSS_2cols.txt'"
   ]
  },
  {
   "cell_type": "code",
   "execution_count": 4,
   "metadata": {
    "collapsed": true,
    "deletable": true,
    "editable": true
   },
   "outputs": [],
   "source": [
    "S.setref(area=4400)"
   ]
  },
  {
   "cell_type": "code",
   "execution_count": 5,
   "metadata": {
    "collapsed": true,
    "deletable": true,
    "editable": true
   },
   "outputs": [],
   "source": [
    "sdss_spectrum = S.FileSpectrum(spectrum)\n",
    "jplus_good_bandpass = S.FileBandpass(jplus_good_filter)\n",
    "jplus_bad_bandpass = S.FileBandpass(jplus_bad_filter)"
   ]
  },
  {
   "cell_type": "code",
   "execution_count": 6,
   "metadata": {
    "collapsed": false,
    "deletable": true,
    "editable": true
   },
   "outputs": [
    {
     "data": {
      "text/plain": [
       "<matplotlib.legend.Legend at 0xaad635cc>"
      ]
     },
     "execution_count": 6,
     "metadata": {},
     "output_type": "execute_result"
    },
    {
     "data": {
      "image/png": "[encoded data removed]",
      "text/plain": [
       "<matplotlib.figure.Figure at 0xaae6558c>"
      ]
     },
     "metadata": {},
     "output_type": "display_data"
    }
   ],
   "source": [
    "# For scaling of throughput so all would fit in same plot\n",
    "fmax = sdss_spectrum.flux.max()\n",
    "\n",
    "# Check bandpass coverage\n",
    "plt.plot(sdss_spectrum.wave, sdss_spectrum.flux,\n",
    "         label='spectrum', alpha=0.5, color='blue')\n",
    "plt.plot(jplus_good_bandpass.wave, jplus_good_bandpass.throughput * fmax,\n",
    "         label='SDSS r', color='green')\n",
    "plt.plot(jplus_bad_bandpass.wave, jplus_bad_bandpass.throughput * fmax,\n",
    "         label='SDSS i', color='red')\n",
    "plt.xlabel('Wavelength (Angstrom)')\n",
    "plt.ylabel('Flux or throughput')\n",
    "plt.legend(loc='upper left')"
   ]
  },
  {
   "cell_type": "code",
   "execution_count": 7,
   "metadata": {
    "collapsed": true,
    "deletable": true,
    "editable": true
   },
   "outputs": [],
   "source": [
    "binset = np.arange(3000, 11000)"
   ]
  },
  {
   "cell_type": "code",
   "execution_count": 8,
   "metadata": {
    "collapsed": false,
    "deletable": true,
    "editable": true
   },
   "outputs": [
    {
     "name": "stdout",
     "output_type": "stream",
     "text": [
      "4.93492437612e-16 6333.9045939\n"
     ]
    }
   ],
   "source": [
    "photometry_good = S.Observation(\n",
    "    sdss_spectrum, jplus_good_bandpass,\n",
    "    binset=binset)  # extrap is unnecessary for this case\n",
    "photometry_good_flam = photometry_good.effstim('flam')\n",
    "lambda_eff_good = photometry_good.efflam()\n",
    "print(photometry_good_flam, lambda_eff_good)"
   ]
  },
  {
   "cell_type": "code",
   "execution_count": 9,
   "metadata": {
    "collapsed": false,
    "deletable": true,
    "editable": true
   },
   "outputs": [
    {
     "name": "stdout",
     "output_type": "stream",
     "text": [
      "3.85719286331e-16 7516.30368089\n"
     ]
    }
   ],
   "source": [
    "photometry_bad = S.Observation(\n",
    "    sdss_spectrum, jplus_bad_bandpass,\n",
    "    binset=binset)  # extrap is unnecessary for this case\n",
    "photometry_bad_flam = photometry_bad.effstim('flam')\n",
    "lambda_eff_bad = photometry_bad.efflam()\n",
    "print(photometry_bad_flam, lambda_eff_bad)"
   ]
  },
  {
   "cell_type": "code",
   "execution_count": 10,
   "metadata": {
    "collapsed": false,
    "deletable": true,
    "editable": true
   },
   "outputs": [
    {
     "name": "stdout",
     "output_type": "stream",
     "text": [
      "3.8571928694e-16 7516.30368248\n"
     ]
    }
   ],
   "source": [
    "i = np.where(sdss_spectrum.flux > 0)\n",
    "sp2 = S.ArraySpectrum(\n",
    "    wave=sdss_spectrum.wave[i], flux=sdss_spectrum.flux[i],\n",
    "    waveunits=sdss_spectrum.waveunits,\n",
    "    fluxunits=sdss_spectrum.fluxunits)\n",
    "obs2 = S.Observation(\n",
    "    sp2, jplus_bad_bandpass, binset=binset,\n",
    "    force='extrap')  # extrap needed now\n",
    "phot_obs2 = obs2.effstim('flam')\n",
    "lamb_obs2 = obs2.efflam()\n",
    "print(phot_obs2, lamb_obs2)"
   ]
  },
  {
   "cell_type": "code",
   "execution_count": 11,
   "metadata": {
    "collapsed": false,
    "deletable": true,
    "editable": true
   },
   "outputs": [
    {
     "data": {
      "text/plain": [
       "<matplotlib.legend.Legend at 0xaa474acc>"
      ]
     },
     "execution_count": 11,
     "metadata": {},
     "output_type": "execute_result"
    },
    {
     "data": {
      "image/png": "[encoded data removed]",
      "text/plain": [
       "<matplotlib.figure.Figure at 0xaad7ef6c>"
      ]
     },
     "metadata": {},
     "output_type": "display_data"
    }
   ],
   "source": [
    "plt.plot(sdss_spectrum.wave, sdss_spectrum.flux, alpha=0.5)\n",
    "plt.plot(lambda_eff_good, photometry_good_flam, 'o', color='black', markersize=10, label='good')\n",
    "plt.plot(lamb_obs2, phot_obs2, '*', color='red', markersize=10, label='badfixed')\n",
    "plt.xlabel('Wavelength (Angstrom)')\n",
    "plt.ylabel('Flux (FLAM)')\n",
    "plt.legend(loc='upper left')"
   ]
  }
 ],
 "metadata": {
  "kernelspec": {
   "display_name": "Python 2",
   "language": "python",
   "name": "python2"
  },
  "language_info": {
   "codemirror_mode": {
    "name": "ipython",
    "version": 2
   },
   "file_extension": ".py",
   "mimetype": "text/x-python",
   "name": "python",
   "nbconvert_exporter": "python",
   "pygments_lexer": "ipython2",
   "version": "2.7.11"
  }
 },
 "nbformat": 4,
 "nbformat_minor": 2
}
